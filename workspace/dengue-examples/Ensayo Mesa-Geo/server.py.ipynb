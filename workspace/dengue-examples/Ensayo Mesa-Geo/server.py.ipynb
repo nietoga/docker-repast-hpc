{
 "cells": [
  {
   "cell_type": "code",
   "execution_count": 2,
   "id": "e654519e",
   "metadata": {},
   "outputs": [
    {
     "ename": "ImportError",
     "evalue": "cannot import name 'InfectedModel' from 'model' (C:\\Users\\Asus\\Documents\\MAJO\\Universidad\\SEMESTRE 8\\Monitoría\\Ensayo Mesa-Geo\\model.py)",
     "output_type": "error",
     "traceback": [
      "\u001b[1;31m---------------------------------------------------------------------------\u001b[0m",
      "\u001b[1;31mImportError\u001b[0m                               Traceback (most recent call last)",
      "\u001b[1;32m~\\AppData\\Local\\Temp/ipykernel_15216/3176078045.py\u001b[0m in \u001b[0;36m<module>\u001b[1;34m\u001b[0m\n\u001b[0;32m      2\u001b[0m \u001b[1;32mfrom\u001b[0m \u001b[0mmesa\u001b[0m\u001b[1;33m.\u001b[0m\u001b[0mvisualization\u001b[0m\u001b[1;33m.\u001b[0m\u001b[0mmodules\u001b[0m \u001b[1;32mimport\u001b[0m \u001b[0mChartModule\u001b[0m\u001b[1;33m,\u001b[0m \u001b[0mTextElement\u001b[0m\u001b[1;33m\u001b[0m\u001b[1;33m\u001b[0m\u001b[0m\n\u001b[0;32m      3\u001b[0m \u001b[1;32mfrom\u001b[0m \u001b[0mmesa\u001b[0m\u001b[1;33m.\u001b[0m\u001b[0mvisualization\u001b[0m\u001b[1;33m.\u001b[0m\u001b[0mUserParam\u001b[0m \u001b[1;32mimport\u001b[0m \u001b[0mUserSettableParameter\u001b[0m\u001b[1;33m\u001b[0m\u001b[1;33m\u001b[0m\u001b[0m\n\u001b[1;32m----> 4\u001b[1;33m \u001b[1;32mfrom\u001b[0m \u001b[0mmodel\u001b[0m \u001b[1;32mimport\u001b[0m \u001b[0mInfectedModel\u001b[0m\u001b[1;33m,\u001b[0m \u001b[0mPersonAgent\u001b[0m\u001b[1;33m\u001b[0m\u001b[1;33m\u001b[0m\u001b[0m\n\u001b[0m\u001b[0;32m      5\u001b[0m \u001b[1;32mfrom\u001b[0m \u001b[0mmesa_geo\u001b[0m\u001b[1;33m.\u001b[0m\u001b[0mvisualization\u001b[0m\u001b[1;33m.\u001b[0m\u001b[0mMapModule\u001b[0m \u001b[1;32mimport\u001b[0m \u001b[0mMapModule\u001b[0m\u001b[1;33m\u001b[0m\u001b[1;33m\u001b[0m\u001b[0m\n",
      "\u001b[1;31mImportError\u001b[0m: cannot import name 'InfectedModel' from 'model' (C:\\Users\\Asus\\Documents\\MAJO\\Universidad\\SEMESTRE 8\\Monitoría\\Ensayo Mesa-Geo\\model.py)"
     ]
    }
   ],
   "source": [
    "from mesa_geo.visualization.ModularVisualization import ModularServer\n",
    "from mesa.visualization.modules import ChartModule, TextElement\n",
    "from mesa.visualization.UserParam import UserSettableParameter\n",
    "from model import InfectedModel, PersonAgent\n",
    "from mesa_geo.visualization.MapModule import MapModule"
   ]
  },
  {
   "cell_type": "code",
   "execution_count": null,
   "id": "db5ad4ec",
   "metadata": {},
   "outputs": [],
   "source": [
    "class InfectedText(TextElement):\n",
    "    \"\"\"\n",
    "    Display a text count of how many steps have been taken\n",
    "    \"\"\"\n",
    "\n",
    "    def __init__(self):\n",
    "        pass\n",
    "\n",
    "    def render(self, model):\n",
    "        return \"Steps: \" + str(model.steps)"
   ]
  },
  {
   "cell_type": "code",
   "execution_count": null,
   "id": "86e5bd8c",
   "metadata": {},
   "outputs": [],
   "source": [
    "model_params = {\n",
    "    \"pop_size\": UserSettableParameter(\"slider\", \"Population size\", 30, 10, 100, 10),\n",
    "    \"init_infected\": UserSettableParameter(\n",
    "        \"slider\", \"Fraction initial infection\", 0.2, 0.00, 1.0, 0.05\n",
    "    ),\n",
    "    \"exposure_distance\": UserSettableParameter(\n",
    "        \"slider\", \"Exposure distance\", 500, 100, 1000, 100\n",
    "    ),\n",
    "}"
   ]
  },
  {
   "cell_type": "code",
   "execution_count": null,
   "id": "b2d0d1e1",
   "metadata": {},
   "outputs": [],
   "source": [
    "def infected_draw(agent):\n",
    "    \"\"\"\n",
    "    Portrayal Method for canvas\n",
    "    \"\"\"\n",
    "    portrayal = dict()\n",
    "    if isinstance(agent, PersonAgent):\n",
    "        portrayal[\"radius\"] = \"2\"\n",
    "    if agent.atype in [\"hotspot\", \"infected\"]:\n",
    "        portrayal[\"color\"] = \"Red\"\n",
    "    elif agent.atype in [\"safe\", \"susceptible\"]:\n",
    "        portrayal[\"color\"] = \"Green\"\n",
    "    elif agent.atype in [\"recovered\"]:\n",
    "        portrayal[\"color\"] = \"Blue\"\n",
    "    elif agent.atype in [\"dead\"]:\n",
    "        portrayal[\"color\"] = \"Black\"\n",
    "    return portrayal"
   ]
  },
  {
   "cell_type": "code",
   "execution_count": null,
   "id": "c785d9e7",
   "metadata": {},
   "outputs": [],
   "source": [
    "infected_text = InfectedText()\n",
    "map_element = MapModule(infected_draw, InfectedModel.MAP_COORDS, 10, 500, 500)\n",
    "infected_chart = ChartModule(\n",
    "    [\n",
    "        {\"Label\": \"infected\", \"Color\": \"Red\"},\n",
    "        {\"Label\": \"susceptible\", \"Color\": \"Green\"},\n",
    "        {\"Label\": \"recovered\", \"Color\": \"Blue\"},\n",
    "        {\"Label\": \"dead\", \"Color\": \"Black\"},\n",
    "    ]\n",
    ")\n",
    "server = ModularServer(\n",
    "    InfectedModel,\n",
    "    [map_element, infected_text, infected_chart],\n",
    "    \"Basic agent-based SIR model\",\n",
    "    model_params,\n",
    ")\n",
    "server.launch()"
   ]
  },
  {
   "cell_type": "code",
   "execution_count": null,
   "id": "766c3691",
   "metadata": {},
   "outputs": [],
   "source": []
  },
  {
   "cell_type": "code",
   "execution_count": null,
   "id": "577c7971",
   "metadata": {},
   "outputs": [],
   "source": []
  }
 ],
 "metadata": {
  "kernelspec": {
   "display_name": "Python 3 (ipykernel)",
   "language": "python",
   "name": "python3"
  },
  "language_info": {
   "codemirror_mode": {
    "name": "ipython",
    "version": 3
   },
   "file_extension": ".py",
   "mimetype": "text/x-python",
   "name": "python",
   "nbconvert_exporter": "python",
   "pygments_lexer": "ipython3",
   "version": "3.9.7"
  }
 },
 "nbformat": 4,
 "nbformat_minor": 5
}
